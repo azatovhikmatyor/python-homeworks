{
 "cells": [
  {
   "cell_type": "code",
   "execution_count": 55,
   "metadata": {},
   "outputs": [],
   "source": [
    "from pyspark.sql import SparkSession\n",
    "from pyspark.sql.functions import to_date, dayofweek, col, when, rand, avg, sum as _sum"
   ]
  },
  {
   "cell_type": "code",
   "execution_count": 16,
   "metadata": {},
   "outputs": [],
   "source": [
    "spark = SparkSession.builder.appName(\"Sunday Sales Analysis\").getOrCreate()"
   ]
  },
  {
   "cell_type": "code",
   "execution_count": 71,
   "metadata": {},
   "outputs": [],
   "source": [
    "dim_products = spark.read.csv(\"data/adv/dim_product.csv\", header=True)\n",
    "fact_internet_sales = spark.read.csv(\"data/adv/fact_internet_sales.csv\", header=True)\n",
    "dim_date = spark.read.csv(\"data/adv/dim_date.csv\", header=True)\n",
    "dim_customer = spark.read.csv(\"data/adv/dim_customer.csv\", header=True)\n",
    "dim_currency = spark.read.csv(\"data/adv/dim_currency.csv\", header=True)"
   ]
  },
  {
   "cell_type": "code",
   "execution_count": 79,
   "metadata": {},
   "outputs": [
    {
     "name": "stdout",
     "output_type": "stream",
     "text": [
      "root\n",
      " |-- CurrencyKey: string (nullable = true)\n",
      " |-- CustomerKey: string (nullable = true)\n",
      " |-- ProductKey: string (nullable = true)\n",
      " |-- OrderDateKey: string (nullable = true)\n",
      " |-- OrderQuantity: string (nullable = true)\n",
      " |-- UnitPrice: string (nullable = true)\n",
      " |-- ExtendedAmount: string (nullable = true)\n",
      " |-- UnitPriceDiscountPct: string (nullable = true)\n",
      " |-- DiscountAmount: string (nullable = true)\n",
      " |-- ProductStandardCost: string (nullable = true)\n",
      " |-- TotalProductCost: string (nullable = true)\n",
      " |-- SalesAmount: string (nullable = true)\n",
      " |-- TaxAmt: string (nullable = true)\n",
      " |-- Freight: string (nullable = true)\n",
      " |-- ProductAlternateKey: string (nullable = true)\n",
      " |-- EnglishProductName: string (nullable = true)\n",
      " |-- SpanishProductName: string (nullable = true)\n",
      " |-- Color: string (nullable = true)\n",
      " |-- ListPrice: string (nullable = true)\n",
      " |-- Size: string (nullable = true)\n",
      " |-- Weight: string (nullable = true)\n",
      " |-- DaysToManufacture: string (nullable = true)\n",
      " |-- Status: string (nullable = true)\n",
      " |-- DateKey: string (nullable = true)\n",
      " |-- FullDateAlternateKey: string (nullable = true)\n",
      " |-- DayNumberOfWeek: string (nullable = true)\n",
      " |-- EnglishDayNameOfWeek: string (nullable = true)\n",
      " |-- SpanishDayNameOfWeek: string (nullable = true)\n",
      " |-- DayNumberOfMonth: string (nullable = true)\n",
      " |-- DayNumberOfYear: string (nullable = true)\n",
      " |-- WeekNumberOfYear: string (nullable = true)\n",
      " |-- EnglishMonthName: string (nullable = true)\n",
      " |-- SpanishMonthName: string (nullable = true)\n",
      " |-- MonthNumberOfYear: string (nullable = true)\n",
      " |-- CalendarQuarter: string (nullable = true)\n",
      " |-- CalendarYear: string (nullable = true)\n",
      " |-- CalendarSemester: string (nullable = true)\n",
      " |-- FiscalQuarter: string (nullable = true)\n",
      " |-- FiscalYear: string (nullable = true)\n",
      " |-- FiscalSemester: string (nullable = true)\n",
      " |-- FirstName: string (nullable = true)\n",
      " |-- MiddleName: string (nullable = true)\n",
      " |-- LastName: string (nullable = true)\n",
      " |-- NameStyle: string (nullable = true)\n",
      " |-- BirthDate: string (nullable = true)\n",
      " |-- MaritalStatus: string (nullable = true)\n",
      " |-- Suffix: string (nullable = true)\n",
      " |-- Gender: string (nullable = true)\n",
      " |-- EmailAddress: string (nullable = true)\n",
      " |-- YearlyIncome: string (nullable = true)\n",
      " |-- TotalChildren: string (nullable = true)\n",
      " |-- AddressLine1: string (nullable = true)\n",
      " |-- AddressLine2: string (nullable = true)\n",
      " |-- Phone: string (nullable = true)\n",
      " |-- CurrencyAlternateKey: string (nullable = true)\n",
      " |-- CurrencyName: string (nullable = true)\n",
      "\n"
     ]
    }
   ],
   "source": [
    "# Join with dim_products\n",
    "fact_sales = fact_internet_sales.join(dim_products, on=\"ProductKey\", how=\"inner\")\n",
    "\n",
    "# Join with dim_date\n",
    "fact_sales = fact_sales.join(dim_date, fact_sales[\"OrderDateKey\"] == dim_date[\"DateKey\"], how=\"inner\")\n",
    "\n",
    "# Join with dim_customer\n",
    "fact_sales = fact_sales.join(dim_customer, on=\"CustomerKey\", how=\"inner\")\n",
    "\n",
    "# Join with dim_currency\n",
    "fact_sales = fact_sales.join(dim_currency, on=\"CurrencyKey\", how=\"inner\")\n",
    "\n",
    "# Verify schema after joins\n",
    "fact_sales.printSchema()"
   ]
  },
  {
   "cell_type": "code",
   "execution_count": 103,
   "metadata": {},
   "outputs": [
    {
     "name": "stdout",
     "output_type": "stream",
     "text": [
      "+-----------+-----------+----------+------------+-------------+---------+--------------+--------------------+--------------+-------------------+----------------+-----------+--------+-------+-------------------+-----------------------+--------------------------+------+---------+----+------+-----------------+-------+--------+--------------------+---------------+--------------------+--------------------+----------------+---------------+----------------+----------------+----------------+-----------------+---------------+------------+----------------+-------------+----------+--------------+---------+----------+---------+---------+----------+-------------+------+------+-----------------------------+------------+-------------+----------------------+---------------------+-------------------+--------------------+--------------------+\n",
      "|CurrencyKey|CustomerKey|ProductKey|OrderDateKey|OrderQuantity|UnitPrice|ExtendedAmount|UnitPriceDiscountPct|DiscountAmount|ProductStandardCost|TotalProductCost|SalesAmount|TaxAmt  |Freight|ProductAlternateKey|EnglishProductName     |SpanishProductName        |Color |ListPrice|Size|Weight|DaysToManufacture|Status |DateKey |FullDateAlternateKey|DayNumberOfWeek|EnglishDayNameOfWeek|SpanishDayNameOfWeek|DayNumberOfMonth|DayNumberOfYear|WeekNumberOfYear|EnglishMonthName|SpanishMonthName|MonthNumberOfYear|CalendarQuarter|CalendarYear|CalendarSemester|FiscalQuarter|FiscalYear|FiscalSemester|FirstName|MiddleName|LastName |NameStyle|BirthDate |MaritalStatus|Suffix|Gender|EmailAddress                 |YearlyIncome|TotalChildren|AddressLine1          |AddressLine2         |Phone              |CurrencyAlternateKey|CurrencyName        |\n",
      "+-----------+-----------+----------+------------+-------------+---------+--------------+--------------------+--------------+-------------------+----------------+-----------+--------+-------+-------------------+-----------------------+--------------------------+------+---------+----+------+-----------------+-------+--------+--------------------+---------------+--------------------+--------------------+----------------+---------------+----------------+----------------+----------------+-----------------+---------------+------------+----------------+-------------+----------+--------------+---------+----------+---------+---------+----------+-------------+------+------+-----------------------------+------------+-------------+----------------------+---------------------+-------------------+--------------------+--------------------+\n",
      "|98         |11240      |344       |20110227    |1            |3399.99  |3399.99       |0.0                 |0.0           |1912.1544          |1912.1544       |3399.99    |271.9992|84.9998|BK-M82S-38         |Mountain-100 Silver, 38|Montaña: 100, plateada, 38|Silver|3399.99  |38  |20.35 |4                |NULL   |20110227|2011-02-27          |1              |Sunday              |Domingo             |27              |58             |10              |February        |Febrero         |2                |1              |2011        |1               |3            |2010      |2             |Anne     |B         |Hernandez|False    |1964-06-09|M            |NULL  |F     |anne4@adventure-works.com    |160000.0    |2            |76 Woodcrest Dr.      |NULL                 |1 (11) 500 555-0119|GBP                 |United Kingdom Pound|\n",
      "|6          |11456      |347       |20110717    |1            |3399.99  |3399.99       |0.0                 |0.0           |1912.1544          |1912.1544       |3399.99    |271.9992|84.9998|BK-M82S-48         |Mountain-100 Silver, 48|Montaña: 100, plateada, 48|Silver|3399.99  |48  |21.42 |4                |NULL   |20110717|2011-07-17          |1              |Sunday              |Domingo             |17              |198            |30              |July            |Julio           |7                |3              |2011        |2               |1            |2011      |1             |Jon      |C         |Gao      |False    |1980-01-05|M            |NULL  |M     |jon35@adventure-works.com    |120000.0    |5            |6455 Garnet Lane      |NULL                 |1 (11) 500 555-0136|AUD                 |Australian Dollar   |\n",
      "|100        |11249      |347       |20111009    |1            |3399.99  |3399.99       |0.0                 |0.0           |1912.1544          |1912.1544       |3399.99    |271.9992|84.9998|BK-M82S-48         |Mountain-100 Silver, 48|Montaña: 100, plateada, 48|Silver|3399.99  |48  |21.42 |4                |NULL   |20111009|2011-10-09          |1              |Sunday              |Domingo             |9               |282            |42              |October         |Octubre         |10               |4              |2011        |2               |2            |2011      |1             |Cindy    |A         |Patel    |False    |1966-07-09|M            |NULL  |F     |cindy3@adventure-works.com   |130000.0    |3            |Essener Straße 123    |NULL                 |1 (11) 500 555-0149|USD                 |US Dollar           |\n",
      "|100        |26107      |344       |20111204    |1            |3399.99  |3399.99       |0.0                 |0.0           |1912.1544          |1912.1544       |3399.99    |271.9992|84.9998|BK-M82S-38         |Mountain-100 Silver, 38|Montaña: 100, plateada, 38|Silver|3399.99  |38  |20.35 |4                |NULL   |20111204|2011-12-04          |1              |Sunday              |Domingo             |4               |338            |50              |December        |Diciembre       |12               |4              |2011        |2               |2            |2011      |1             |Alexis   |NULL      |Thomas   |False    |1965-10-10|M            |NULL  |F     |alexis10@adventure-works.com |130000.0    |4            |6987 Buchanan Ct.     |NULL                 |150-555-0131       |USD                 |US Dollar           |\n",
      "|98         |11240      |355       |20121230    |1            |2319.99  |2319.99       |0.0                 |0.0           |1265.6195          |1265.6195       |2319.99    |185.5992|57.9998|BK-M68S-42         |Mountain-200 Silver, 42|Montaña: 200, plateada, 42|Silver|2319.99  |42  |23.77 |4                |Current|20121230|2012-12-30          |1              |Sunday              |Domingo             |30              |365            |53              |December        |Diciembre       |12               |4              |2012        |2               |2            |2012      |1             |Anne     |B         |Hernandez|False    |1964-06-09|M            |NULL  |F     |anne4@adventure-works.com    |160000.0    |2            |76 Woodcrest Dr.      |NULL                 |1 (11) 500 555-0119|GBP                 |United Kingdom Pound|\n",
      "|98         |11244      |355       |20130120    |1            |2319.99  |2319.99       |0.0                 |0.0           |1265.6195          |1265.6195       |2319.99    |185.5992|57.9998|BK-M68S-42         |Mountain-200 Silver, 42|Montaña: 200, plateada, 42|Silver|2319.99  |42  |23.77 |4                |Current|20130120|2013-01-20          |1              |Sunday              |Domingo             |20              |20             |4               |January         |Enero           |1                |1              |2013        |1               |3            |2012      |2             |Alexis   |M         |Coleman  |False    |1968-11-22|S            |NULL  |F     |alexis28@adventure-works.com |170000.0    |2            |7140 Camelback Road   |NULL                 |1 (11) 500 555-0115|GBP                 |United Kingdom Pound|\n",
      "|98         |12123      |355       |20130210    |1            |2319.99  |2319.99       |0.0                 |0.0           |1265.6195          |1265.6195       |2319.99    |185.5992|57.9998|BK-M68S-42         |Mountain-200 Silver, 42|Montaña: 200, plateada, 42|Silver|2319.99  |42  |23.77 |4                |Current|20130210|2013-02-10          |1              |Sunday              |Domingo             |10              |41             |7               |February        |Febrero         |2                |1              |2013        |1               |3            |2012      |2             |Wesley   |A         |Liang    |False    |1963-12-12|M            |NULL  |M     |wesley16@adventure-works.com |170000.0    |2            |6048 Nightingale Drive|NULL                 |1 (11) 500 555-0143|GBP                 |United Kingdom Pound|\n",
      "|100        |12188      |357       |20130310    |1            |2319.99  |2319.99       |0.0                 |0.0           |1265.6195          |1265.6195       |2319.99    |185.5992|57.9998|BK-M68S-46         |Mountain-200 Silver, 46|Montaña: 200, plateada, 46|Silver|2319.99  |46  |24.13 |4                |Current|20130310|2013-03-10          |1              |Sunday              |Domingo             |10              |69             |11              |March           |Marzo           |3                |1              |2013        |1               |3            |2012      |2             |Ashley   |J         |Thomas   |False    |1965-11-20|S            |NULL  |F     |ashley11@adventure-works.com |110000.0    |3            |5071 Almaden Dr.      |NULL                 |190-555-0190       |USD                 |US Dollar           |\n",
      "|98         |12133      |353       |20130317    |1            |2319.99  |2319.99       |0.0                 |0.0           |1265.6195          |1265.6195       |2319.99    |185.5992|57.9998|BK-M68S-38         |Mountain-200 Silver, 38|Montaña: 200, plateada, 38|Silver|2319.99  |38  |23.35 |4                |Current|20130317|2013-03-17          |1              |Sunday              |Domingo             |17              |76             |12              |March           |Marzo           |3                |1              |2013        |1               |3            |2012      |2             |Colleen  |C         |Xie      |False    |1961-06-24|M            |NULL  |F     |colleen27@adventure-works.com|130000.0    |3            |8976 E Leland         |NULL                 |1 (11) 500 555-0175|GBP                 |United Kingdom Pound|\n",
      "|19         |12710      |357       |20130317    |1            |2319.99  |2319.99       |0.0                 |0.0           |1265.6195          |1265.6195       |2319.99    |185.5992|57.9998|BK-M68S-46         |Mountain-200 Silver, 46|Montaña: 200, plateada, 46|Silver|2319.99  |46  |24.13 |4                |Current|20130317|2013-03-17          |1              |Sunday              |Domingo             |17              |76             |12              |March           |Marzo           |3                |1              |2013        |1               |3            |2012      |2             |Dalton   |E         |Evans    |False    |1946-12-17|S            |NULL  |M     |dalton43@adventure-works.com |170000.0    |2            |3601 Stinson          |#7                   |251-555-0135       |CAD                 |Canadian Dollar     |\n",
      "|98         |12637      |357       |20130331    |1            |2319.99  |2319.99       |0.0                 |0.0           |1265.6195          |1265.6195       |2319.99    |185.5992|57.9998|BK-M68S-46         |Mountain-200 Silver, 46|Montaña: 200, plateada, 46|Silver|2319.99  |46  |24.13 |4                |Current|20130331|2013-03-31          |1              |Sunday              |Domingo             |31              |90             |14              |March           |Marzo           |3                |1              |2013        |1               |3            |2012      |2             |Leonard  |L         |Nath     |False    |1951-08-30|M            |NULL  |M     |leonard20@adventure-works.com|130000.0    |4            |487 Ash Lane          |NULL                 |1 (11) 500 555-0146|GBP                 |United Kingdom Pound|\n",
      "|100        |12364      |357       |20130331    |1            |2319.99  |2319.99       |0.0                 |0.0           |1265.6195          |1265.6195       |2319.99    |185.5992|57.9998|BK-M68S-46         |Mountain-200 Silver, 46|Montaña: 200, plateada, 46|Silver|2319.99  |46  |24.13 |4                |Current|20130331|2013-03-31          |1              |Sunday              |Domingo             |31              |90             |14              |March           |Marzo           |3                |1              |2013        |1               |3            |2012      |2             |Erin     |NULL      |Rogers   |False    |1947-04-27|M            |NULL  |F     |erin23@adventure-works.com   |130000.0    |2            |8387 E. Lane Rd.      |NULL                 |920-555-0187       |USD                 |US Dollar           |\n",
      "|100        |13189      |355       |20130414    |1            |2319.99  |2319.99       |0.0                 |0.0           |1265.6195          |1265.6195       |2319.99    |185.5992|57.9998|BK-M68S-42         |Mountain-200 Silver, 42|Montaña: 200, plateada, 42|Silver|2319.99  |42  |23.77 |4                |Current|20130414|2013-04-14          |1              |Sunday              |Domingo             |14              |104            |16              |April           |Abril           |4                |2              |2013        |1               |4            |2012      |2             |Gloria   |R         |Romero   |False    |1953-03-31|S            |NULL  |F     |gloria9@adventure-works.com  |120000.0    |2            |598 La Canada         |NULL                 |830-555-0173       |USD                 |US Dollar           |\n",
      "|100        |12209      |357       |20130421    |1            |2319.99  |2319.99       |0.0                 |0.0           |1265.6195          |1265.6195       |2319.99    |185.5992|57.9998|BK-M68S-46         |Mountain-200 Silver, 46|Montaña: 200, plateada, 46|Silver|2319.99  |46  |24.13 |4                |Current|20130421|2013-04-21          |1              |Sunday              |Domingo             |21              |111            |17              |April           |Abril           |4                |2              |2013        |1               |4            |2012      |2             |Mindy    |NULL      |Jai      |False    |1945-12-24|M            |NULL  |F     |mindy16@adventure-works.com  |130000.0    |2            |7559 Worth Ct.        |NULL                 |520-555-0110       |USD                 |US Dollar           |\n",
      "|100        |13278      |357       |20130505    |1            |2319.99  |2319.99       |0.0                 |0.0           |1265.6195          |1265.6195       |2319.99    |185.5992|57.9998|BK-M68S-46         |Mountain-200 Silver, 46|Montaña: 200, plateada, 46|Silver|2319.99  |46  |24.13 |4                |Current|20130505|2013-05-05          |1              |Sunday              |Domingo             |5               |125            |19              |May             |Mayo            |5                |2              |2013        |1               |4            |2012      |2             |Jorge    |NULL      |Hu       |False    |1971-05-09|S            |NULL  |M     |jorge23@adventure-works.com  |110000.0    |2            |6121 Chilpancingo Pk  |NULL                 |285-555-0110       |USD                 |US Dollar           |\n",
      "|98         |13581      |357       |20130526    |1            |2319.99  |2319.99       |0.0                 |0.0           |1265.6195          |1265.6195       |2319.99    |185.5992|57.9998|BK-M68S-46         |Mountain-200 Silver, 46|Montaña: 200, plateada, 46|Silver|2319.99  |46  |24.13 |4                |Current|20130526|2013-05-26          |1              |Sunday              |Domingo             |26              |146            |22              |May             |Mayo            |5                |2              |2013        |1               |4            |2012      |2             |Albert   |W         |Blanco   |False    |1952-04-17|M            |NULL  |M     |albert15@adventure-works.com |130000.0    |4            |3316 Balhan Dr        |NULL                 |1 (11) 500 555-0130|GBP                 |United Kingdom Pound|\n",
      "|100        |11242      |592       |20130526    |1            |564.99   |564.99        |0.0                 |0.0           |308.2179           |308.2179        |564.99     |45.1992 |14.1248|BK-M18S-42         |Mountain-500 Silver, 42|Montaña: 500, plateada, 42|Silver|564.99   |42  |27.77 |4                |Current|20130526|2013-05-26          |1              |Sunday              |Domingo             |26              |146            |22              |May             |Mayo            |5                |2              |2013        |1               |4            |2012      |2             |Larry    |NULL      |Munoz    |False    |1963-05-11|M            |NULL  |M     |larry9@adventure-works.com   |110000.0    |2            |Midi-Couleurs         |NULL                 |1 (11) 500 555-0193|USD                 |US Dollar           |\n",
      "|100        |13263      |357       |20130616    |1            |2319.99  |2319.99       |0.0                 |0.0           |1265.6195          |1265.6195       |2319.99    |185.5992|57.9998|BK-M68S-46         |Mountain-200 Silver, 46|Montaña: 200, plateada, 46|Silver|2319.99  |46  |24.13 |4                |Current|20130616|2013-06-16          |1              |Sunday              |Domingo             |16              |167            |25              |June            |Junio           |6                |2              |2013        |1               |4            |2012      |2             |Kate     |K         |Anand    |False    |1961-10-22|S            |NULL  |F     |kate19@adventure-works.com   |110000.0    |2            |4855 James Court      |NULL                 |1 (11) 500 555-0179|USD                 |US Dollar           |\n",
      "|100        |13658      |355       |20130623    |1            |2319.99  |2319.99       |0.0                 |0.0           |1265.6195          |1265.6195       |2319.99    |185.5992|57.9998|BK-M68S-42         |Mountain-200 Silver, 42|Montaña: 200, plateada, 42|Silver|2319.99  |42  |23.77 |4                |Current|20130623|2013-06-23          |1              |Sunday              |Domingo             |23              |174            |26              |June            |Junio           |6                |2              |2013        |1               |4            |2012      |2             |Wyatt    |J         |Bennett  |False    |1946-09-10|M            |NULL  |M     |wyatt53@adventure-works.com  |130000.0    |2            |9928 Stinson          |NULL                 |198-555-0197       |USD                 |US Dollar           |\n",
      "|100        |15100      |357       |20130707    |1            |2319.99  |2319.99       |0.0                 |0.0           |1265.6195          |1265.6195       |2319.99    |185.5992|57.9998|BK-M68S-46         |Mountain-200 Silver, 46|Montaña: 200, plateada, 46|Silver|2319.99  |46  |24.13 |4                |Current|20130707|2013-07-07          |1              |Sunday              |Domingo             |7               |188            |28              |July            |Julio           |7                |3              |2013        |2               |1            |2013      |1             |Brenda   |NULL      |Chandra  |False    |1952-05-22|M            |NULL  |F     |brenda6@adventure-works.com  |110000.0    |3            |Holzstr 7555          |Kreditorenbuchhaltung|1 (11) 500 555-0176|USD                 |US Dollar           |\n",
      "+-----------+-----------+----------+------------+-------------+---------+--------------+--------------------+--------------+-------------------+----------------+-----------+--------+-------+-------------------+-----------------------+--------------------------+------+---------+----+------+-----------------+-------+--------+--------------------+---------------+--------------------+--------------------+----------------+---------------+----------------+----------------+----------------+-----------------+---------------+------------+----------------+-------------+----------+--------------+---------+----------+---------+---------+----------+-------------+------+------+-----------------------------+------------+-------------+----------------------+---------------------+-------------------+--------------------+--------------------+\n",
      "only showing top 20 rows\n",
      "\n"
     ]
    }
   ],
   "source": [
    "# Task1 Filtering\n",
    "from pyspark.sql.functions import col\n",
    "\n",
    "# Filter sales based on the given criteria\n",
    "task1_filtered_sales = fact_sales.filter(\n",
    "    (col(\"EnglishDayNameOfWeek\") == \"Sunday\") &  # Filter for Sunday\n",
    "    (col(\"Color\") == \"Silver\") &  # Filter for Silver color\n",
    "    (col(\"Size\").isNotNull()) &  # Ensure Size is not null\n",
    "    (col(\"Size\") != \"\") &  # Ensure Size is not empty\n",
    "    (col(\"Weight\").cast(\"double\") > 10) &  # Ensure Weight is greater than 10\n",
    "    (col(\"YearlyIncome\").cast(\"double\") > 100000.0) &  # Ensure YearlyIncome > 100,000\n",
    "    (col(\"TotalChildren\").cast(\"int\") > 1)  # Ensure more than 1 child\n",
    ")\n",
    "\n",
    "# Show the filtered sales data\n",
    "task1_filtered_sales.show(truncate=False)\n",
    "\n",
    "\n"
   ]
  },
  {
   "cell_type": "code",
   "execution_count": null,
   "metadata": {},
   "outputs": [
    {
     "name": "stdout",
     "output_type": "stream",
     "text": [
      "+-----------+---------+------------------+------------------+-----------------------+\n",
      "|CustomerKey|FirstName|TotalTaxAmt       |AverageSalesAmount|AverageTotalProductCost|\n",
      "+-----------+---------+------------------+------------------+-----------------------+\n",
      "|12188      |Ashley   |185.5992          |2319.99           |1265.6195              |\n",
      "|18131      |Ann      |185.5992          |2319.99           |1265.6195              |\n",
      "|11456      |Jon      |271.9992          |3399.99           |1912.1544              |\n",
      "|13581      |Albert   |185.5992          |2319.99           |1265.6195              |\n",
      "|18139      |Jennifer |185.5992          |2319.99           |1265.6195              |\n",
      "|11249      |Cindy    |271.9992          |3399.99           |1912.1544              |\n",
      "|26107      |Alexis   |271.9992          |3399.99           |1912.1544              |\n",
      "|11242      |Larry    |45.1992           |564.99            |308.2179               |\n",
      "|12710      |Dalton   |185.5992          |2319.99           |1265.6195              |\n",
      "|13658      |Wyatt    |185.5992          |2319.99           |1265.6195              |\n",
      "|15194      |Erik     |185.5992          |2319.99           |1265.6195              |\n",
      "|13263      |Kate     |185.5992          |2319.99           |1265.6195              |\n",
      "|12133      |Colleen  |185.5992          |2319.99           |1265.6195              |\n",
      "|19057      |Joanna   |185.5992          |2319.99           |1265.6195              |\n",
      "|11240      |Anne     |457.59839999999997|2859.99           |1588.88695             |\n",
      "|13189      |Gloria   |185.5992          |2319.99           |1265.6195              |\n",
      "|13278      |Jorge    |185.5992          |2319.99           |1265.6195              |\n",
      "|15100      |Brenda   |185.5992          |2319.99           |1265.6195              |\n",
      "|12364      |Erin     |185.5992          |2319.99           |1265.6195              |\n",
      "|11244      |Alexis   |185.5992          |2319.99           |1265.6195              |\n",
      "+-----------+---------+------------------+------------------+-----------------------+\n",
      "only showing top 20 rows\n",
      "\n"
     ]
    }
   ],
   "source": [
    "# Task 2 Aggregation\n",
    "from pyspark.sql.functions import col, sum, avg\n",
    "\n",
    "# Perform aggregation\n",
    "aggregated_sales = task1_filtered_sales.groupBy(\n",
    "    \"CustomerKey\", \"FirstName\"\n",
    ").agg(\n",
    "    sum(\"TaxAmt\").alias(\"TotalTaxAmt\"),  \n",
    "    avg(\"SalesAmount\").alias(\"AverageSalesAmount\"),  \n",
    "    avg(\"TotalProductCost\").alias(\"AverageTotalProductCost\") \n",
    ")\n",
    "\n",
    "# Show the aggregated result\n",
    "aggregated_sales.show(truncate=False)\n"
   ]
  },
  {
   "cell_type": "code",
   "execution_count": 105,
   "metadata": {},
   "outputs": [
    {
     "name": "stdout",
     "output_type": "stream",
     "text": [
      "+-----------+---------+------------------+------------------+-----------------------+\n",
      "|CustomerKey|FirstName|TotalTaxAmt       |AverageSalesAmount|AverageTotalProductCost|\n",
      "+-----------+---------+------------------+------------------+-----------------------+\n",
      "|13581      |Albert   |185.5992          |2319.99           |1265.6195              |\n",
      "|26107      |Alexis   |271.9992          |3399.99           |1912.1544              |\n",
      "|11244      |Alexis   |185.5992          |2319.99           |1265.6195              |\n",
      "|16623      |Andres   |185.5992          |2319.99           |1265.6195              |\n",
      "|18131      |Ann      |185.5992          |2319.99           |1265.6195              |\n",
      "|11240      |Anne     |457.59839999999997|2859.99           |1588.88695             |\n",
      "|12188      |Ashley   |185.5992          |2319.99           |1265.6195              |\n",
      "|17536      |Benjamin |185.5992          |2319.99           |1265.6195              |\n",
      "|15100      |Brenda   |185.5992          |2319.99           |1265.6195              |\n",
      "|11249      |Cindy    |271.9992          |3399.99           |1912.1544              |\n",
      "|12133      |Colleen  |185.5992          |2319.99           |1265.6195              |\n",
      "|12710      |Dalton   |185.5992          |2319.99           |1265.6195              |\n",
      "|15194      |Erik     |185.5992          |2319.99           |1265.6195              |\n",
      "|12364      |Erin     |185.5992          |2319.99           |1265.6195              |\n",
      "|21517      |Gerald   |185.5992          |2319.99           |1265.6195              |\n",
      "|13189      |Gloria   |185.5992          |2319.99           |1265.6195              |\n",
      "|18139      |Jennifer |185.5992          |2319.99           |1265.6195              |\n",
      "|19057      |Joanna   |185.5992          |2319.99           |1265.6195              |\n",
      "|11456      |Jon      |271.9992          |3399.99           |1912.1544              |\n",
      "|13278      |Jorge    |185.5992          |2319.99           |1265.6195              |\n",
      "+-----------+---------+------------------+------------------+-----------------------+\n",
      "only showing top 20 rows\n",
      "\n"
     ]
    }
   ],
   "source": [
    "# Task 3 Sorting\n",
    "\n",
    "aggregated_sales_sorted = aggregated_sales.orderBy(\"FirstName\", ascending=True)\n",
    "\n",
    "aggregated_sales_sorted.show(truncate=False)"
   ]
  },
  {
   "cell_type": "code",
   "execution_count": 106,
   "metadata": {},
   "outputs": [
    {
     "name": "stdout",
     "output_type": "stream",
     "text": [
      "+---------+------------------+------------------+-----------------------+\n",
      "|FirstName|TotalTaxAmt       |AverageSalesAmount|AverageTotalProductCost|\n",
      "+---------+------------------+------------------+-----------------------+\n",
      "|Albert   |185.5992          |2319.99           |1265.6195              |\n",
      "|Alexis   |271.9992          |3399.99           |1912.1544              |\n",
      "|Alexis   |185.5992          |2319.99           |1265.6195              |\n",
      "|Andres   |185.5992          |2319.99           |1265.6195              |\n",
      "|Ann      |185.5992          |2319.99           |1265.6195              |\n",
      "|Anne     |457.59839999999997|2859.99           |1588.88695             |\n",
      "|Ashley   |185.5992          |2319.99           |1265.6195              |\n",
      "|Benjamin |185.5992          |2319.99           |1265.6195              |\n",
      "|Brenda   |185.5992          |2319.99           |1265.6195              |\n",
      "|Cindy    |271.9992          |3399.99           |1912.1544              |\n",
      "|Colleen  |185.5992          |2319.99           |1265.6195              |\n",
      "|Dalton   |185.5992          |2319.99           |1265.6195              |\n",
      "|Erik     |185.5992          |2319.99           |1265.6195              |\n",
      "|Erin     |185.5992          |2319.99           |1265.6195              |\n",
      "|Gerald   |185.5992          |2319.99           |1265.6195              |\n",
      "|Gloria   |185.5992          |2319.99           |1265.6195              |\n",
      "|Jennifer |185.5992          |2319.99           |1265.6195              |\n",
      "|Joanna   |185.5992          |2319.99           |1265.6195              |\n",
      "|Jon      |271.9992          |3399.99           |1912.1544              |\n",
      "|Jorge    |185.5992          |2319.99           |1265.6195              |\n",
      "+---------+------------------+------------------+-----------------------+\n",
      "only showing top 20 rows\n",
      "\n"
     ]
    }
   ],
   "source": [
    "# Task 4 Data presentation\n",
    "\n",
    "final_result = aggregated_sales_sorted.drop(\"CustomerKey\")\n",
    "\n",
    "final_result.show(truncate=False)"
   ]
  },
  {
   "cell_type": "code",
   "execution_count": null,
   "metadata": {},
   "outputs": [],
   "source": []
  },
  {
   "cell_type": "code",
   "execution_count": null,
   "metadata": {},
   "outputs": [],
   "source": []
  }
 ],
 "metadata": {
  "kernelspec": {
   "display_name": "Python 3",
   "language": "python",
   "name": "python3"
  },
  "language_info": {
   "codemirror_mode": {
    "name": "ipython",
    "version": 3
   },
   "file_extension": ".py",
   "mimetype": "text/x-python",
   "name": "python",
   "nbconvert_exporter": "python",
   "pygments_lexer": "ipython3",
   "version": "3.13.0"
  }
 },
 "nbformat": 4,
 "nbformat_minor": 2
}
